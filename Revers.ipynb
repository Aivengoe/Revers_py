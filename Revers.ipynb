{
 "cells": [
  {
   "cell_type": "code",
   "execution_count": null,
   "metadata": {},
   "outputs": [
    {
     "name": "stdout",
     "output_type": "stream",
     "text": [
      "File nametest.txt\n",
      "String len61\n"
     ]
    }
   ],
   "source": [
    "file_name = input(\"File name\")\n",
    "# len_str = int(input('String len'))\n",
    "len_str = 61 \n",
    "length = 0 \n",
    "with open(file_name) as f:\n",
    "    for i in f:\n",
    "        length += len(i)\n",
    "        \n",
    "new_file_name = \"revers_{}\".format(file_name)\n",
    "with open(file_name) as f, open(new_file_name, \"w\") as new_f:   \n",
    "    count = 1\n",
    "    line = f.read(len_str)\n",
    "    sum_len = 0\n",
    "    while sum_len < length:\n",
    "        line = line.rstrip()\n",
    "        if count % 2 == 0:\n",
    "            new_f.write(line[::-1]+'\\n')\n",
    "        else:\n",
    "            new_f.write(line+'\\n')\n",
    "        count += 1\n",
    "        sum_len += len(line)\n",
    "        line = f.read(len_str)\n",
    "    print('OK')    \n",
    "                "
   ]
  },
  {
   "cell_type": "code",
   "execution_count": null,
   "metadata": {
    "collapsed": true
   },
   "outputs": [],
   "source": []
  },
  {
   "cell_type": "code",
   "execution_count": null,
   "metadata": {
    "collapsed": true
   },
   "outputs": [],
   "source": []
  }
 ],
 "metadata": {
  "kernelspec": {
   "display_name": "Python 3",
   "language": "python",
   "name": "python3"
  },
  "language_info": {
   "codemirror_mode": {
    "name": "ipython",
    "version": 3
   },
   "file_extension": ".py",
   "mimetype": "text/x-python",
   "name": "python",
   "nbconvert_exporter": "python",
   "pygments_lexer": "ipython3",
   "version": "3.6.1"
  }
 },
 "nbformat": 4,
 "nbformat_minor": 2
}
